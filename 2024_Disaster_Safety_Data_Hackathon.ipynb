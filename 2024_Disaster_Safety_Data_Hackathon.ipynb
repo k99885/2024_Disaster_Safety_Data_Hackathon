{
  "cells": [
    {
      "cell_type": "markdown",
      "metadata": {
        "id": "view-in-github",
        "colab_type": "text"
      },
      "source": [
        "<a href=\"https://colab.research.google.com/github/k99885/2024_Disaster_Safety_Data_Hackathon/blob/main/2024_Disaster_Safety_Data_Hackathon.ipynb\" target=\"_parent\"><img src=\"https://colab.research.google.com/assets/colab-badge.svg\" alt=\"Open In Colab\"/></a>"
      ]
    },
    {
      "cell_type": "code",
      "source": [
        "!curl ipecho.net/plain"
      ],
      "metadata": {
        "colab": {
          "base_uri": "https://localhost:8080/"
        },
        "id": "yapYE0JB_STt",
        "outputId": "5b588196-16e9-431f-8ab9-fdcb3388c38c"
      },
      "execution_count": null,
      "outputs": [
        {
          "output_type": "stream",
          "name": "stdout",
          "text": [
            "35.237.35.106"
          ]
        }
      ]
    },
    {
      "cell_type": "code",
      "source": [
        "!curl ipecho.net/plain"
      ],
      "metadata": {
        "id": "F9ZQMyTNbiRy",
        "outputId": "bed71965-d120-4f49-e950-53628251b085",
        "colab": {
          "base_uri": "https://localhost:8080/"
        }
      },
      "execution_count": null,
      "outputs": [
        {
          "output_type": "stream",
          "name": "stdout",
          "text": [
            "34.48.125.158"
          ]
        }
      ]
    },
    {
      "cell_type": "code",
      "source": [
        "import requests\n",
        "import urllib3\n",
        "import csv\n",
        "\n",
        "urllib3.disable_warnings(urllib3.exceptions.InsecureRequestWarning)\n",
        "\n",
        "url = \"https://www.safetydata.go.kr\"\n",
        "dataName = \"/V2/api/DSSP-IF-00503\"\n",
        "serviceKey = \"P7AD52K4K42A5009\"\n",
        "\n",
        "payloads = {\n",
        "    \"serviceKey\": serviceKey,\n",
        "    \"returnType\": \"JSON\",  # Specify return type as JSON\n",
        "    \"pageNo\": \"1\",\n",
        "    \"numOfRows\": \"1000\",\n",
        "}\n",
        "\n",
        "response_1 = requests.get(url + dataName, params=payloads, verify=False)\n",
        "\n",
        "if response_1.status_code == 200:\n",
        "    data = response_1.json()  # Parse JSON response\n",
        "\n",
        "    # Extract the 'body' part of the JSON response\n",
        "    records = data.get(\"body\", [])\n",
        "\n",
        "    if records:\n",
        "        # Use the keys from the first record to set the CSV headers\n",
        "        headers = records[0].keys()\n",
        "\n",
        "        # Write data to a CSV file\n",
        "        with open(\"data_1.csv\", \"w\", encoding=\"utf-8\", newline='') as file:\n",
        "            writer = csv.DictWriter(file, fieldnames=headers)\n",
        "            writer.writeheader()\n",
        "            writer.writerows(records)\n",
        "\n",
        "        print(\"CSV 파일로 저장되었습니다.\")\n",
        "    else:\n",
        "        print(\"기록이 없습니다.\")\n",
        "else:\n",
        "    # Print an error message if the request failed\n",
        "    print(\"요청에 실패하였습니다. 상태 코드:\", response_1.status_code)\n"
      ],
      "metadata": {
        "colab": {
          "base_uri": "https://localhost:8080/"
        },
        "id": "cUXljTpGo6aO",
        "outputId": "895ccd75-a28d-462e-9f1e-3f3de3e020bc"
      },
      "execution_count": null,
      "outputs": [
        {
          "output_type": "stream",
          "name": "stdout",
          "text": [
            "CSV 파일로 저장되었습니다.\n"
          ]
        }
      ]
    },
    {
      "cell_type": "code",
      "source": [
        "import pandas as pd\n",
        "\n",
        "# CSV 파일 불러오기\n",
        "file_path = \"/content/data_1.csv\"\n",
        "data = pd.read_csv(file_path)\n",
        "\n",
        "# 필요한 열 추출 및 YR이 2008인 데이터만 필터링\n",
        "extracted_data_1 = data[['YR', 'DONG_CD', 'STATS_VL']]\n",
        "filtered_data_1_2008 = extracted_data_1[extracted_data_1['YR'] == 2008]\n",
        "\n",
        "# 추출된 데이터를 새로운 CSV 파일로 저장\n",
        "output_file_path = '/content/extracted_data_1_2008.csv'\n",
        "filtered_data_1_2008.to_csv(output_file_path, index=False)\n",
        "\n",
        "# 저장된 파일 경로 출력\n",
        "print(output_file_path)\n"
      ],
      "metadata": {
        "colab": {
          "base_uri": "https://localhost:8080/"
        },
        "id": "dbWYmT6DrH0e",
        "outputId": "ebf6b22c-d27a-4655-c19e-4f54b7c5bdd7"
      },
      "execution_count": null,
      "outputs": [
        {
          "output_type": "stream",
          "name": "stdout",
          "text": [
            "/content/extracted_data_1_2008.csv\n"
          ]
        }
      ]
    },
    {
      "cell_type": "code",
      "source": [
        "#행정동\n",
        "\n",
        "url = \"https://www.safetydata.go.kr\"\n",
        "dataName = \"/V2/api/DSSP-IF-10329\"\n",
        "serviceKey = \"4YK750V495ZXCN8Q\"\n",
        "\n",
        "payloads = {\n",
        "    \"serviceKey\": serviceKey,\n",
        "    \"returnType\": \"JSON\",  # Specify return type as JSON\n",
        "    \"pageNo\": \"1\",\n",
        "    \"numOfRows\": \"1000\",\n",
        "}\n",
        "\n",
        "response_2 = requests.get(url + dataName, params=payloads, verify=False)\n",
        "\n",
        "if response_2.status_code == 200:\n",
        "    data = response_2.json()  # Parse JSON response\n",
        "\n",
        "    # Extract the 'body' part of the JSON response\n",
        "    records = data.get(\"body\", [])\n",
        "\n",
        "    if records:\n",
        "        # Use the keys from the first record to set the CSV headers\n",
        "        headers = records[0].keys()\n",
        "\n",
        "        # Write data to a CSV file\n",
        "        with open(\"data_2.csv\", \"w\", encoding=\"utf-8\", newline='') as file:\n",
        "            writer = csv.DictWriter(file, fieldnames=headers)\n",
        "            writer.writeheader()\n",
        "            writer.writerows(records)\n",
        "\n",
        "        print(\"CSV 파일로 저장되었습니다.\")\n",
        "    else:\n",
        "        print(\"기록이 없습니다.\")\n",
        "else:\n",
        "    # Print an error message if the request failed\n",
        "    print(\"요청에 실패하였습니다. 상태 코드:\", response_2.status_code)\n"
      ],
      "metadata": {
        "colab": {
          "base_uri": "https://localhost:8080/"
        },
        "id": "3bZTwapercAg",
        "outputId": "2fc4e52a-05e3-493a-cd45-0c2da2449b40"
      },
      "execution_count": null,
      "outputs": [
        {
          "output_type": "stream",
          "name": "stdout",
          "text": [
            "CSV 파일로 저장되었습니다.\n"
          ]
        }
      ]
    },
    {
      "cell_type": "code",
      "source": [
        "# CSV 파일 불러오기\n",
        "file_path = \"/content/data_2.csv\"\n",
        "\n",
        "data_2 = pd.read_csv(file_path)\n",
        "\n",
        "# 필요한 열 추출\n",
        "extracted_data_2 = data_2[[ 'DONG_CD', 'CTPV_NM','SGG_NM','EMD_NM','SGG_CD']]\n",
        "\n",
        "# 추출된 데이터를 새로운 CSV 파일d로 저장\n",
        "output_file_path_2 = '/content/extracted_data_2.csv'\n",
        "extracted_data_2.to_csv(output_file_path_2, index=False)\n",
        "\n",
        "# 저장된 파일 경로 출력\n",
        "print(output_file_path_2)\n"
      ],
      "metadata": {
        "colab": {
          "base_uri": "https://localhost:8080/"
        },
        "id": "QIH8vpvSsRqs",
        "outputId": "da651244-c9ab-4da5-bc05-68cc3029861d"
      },
      "execution_count": null,
      "outputs": [
        {
          "output_type": "stream",
          "name": "stdout",
          "text": [
            "/content/extracted_data_2.csv\n"
          ]
        }
      ]
    },
    {
      "cell_type": "code",
      "source": [
        "\n",
        "\n",
        "# CSV 파일 불러오기\n",
        "file_path_1 = \"/content/extracted_data_1_2008.csv\"\n",
        "file_path_2 = \"/content/extracted_data_2.csv\"\n",
        "\n",
        "data_1 = pd.read_csv(file_path_1)\n",
        "data_2 = pd.read_csv(file_path_2)\n",
        "\n",
        "# DONG_CD 값으로 병합\n",
        "merged_data = pd.merge(data_1, data_2, on='DONG_CD')\n",
        "\n",
        "# 병합된 데이터를 새로운 CSV 파일로 저장\n",
        "output_file_path = '/content/merged_data.csv'\n",
        "merged_data.to_csv(output_file_path, index=False)\n",
        "\n",
        "# 저장된 파일 경로 출력\n",
        "output_file_path\n"
      ],
      "metadata": {
        "colab": {
          "base_uri": "https://localhost:8080/",
          "height": 35
        },
        "id": "RWeTFLtI8eVe",
        "outputId": "ca217c1f-0f22-4657-e560-e1464fe966c6"
      },
      "execution_count": null,
      "outputs": [
        {
          "output_type": "execute_result",
          "data": {
            "text/plain": [
              "'/content/merged_data.csv'"
            ],
            "application/vnd.google.colaboratory.intrinsic+json": {
              "type": "string"
            }
          },
          "metadata": {},
          "execution_count": 120
        }
      ]
    },
    {
      "cell_type": "code",
      "source": [
        "#행정동\n",
        "\n",
        "url = \"https://www.safetydata.go.kr\"\n",
        "dataName = \"/V2/api/DSSP-IF-00274\"\n",
        "serviceKey = \"R04065LU20X4ZV82\"\n",
        "\n",
        "payloads = {\n",
        "    \"serviceKey\": serviceKey,\n",
        "    \"returnType\": \"JSON\",  # Specify return type as JSON\n",
        "    \"pageNo\": \"1\",\n",
        "    \"numOfRows\": \"1000\",\n",
        "}\n",
        "\n",
        "response_3 = requests.get(url + dataName, params=payloads, verify=False)\n",
        "\n",
        "if response_3.status_code == 200:\n",
        "    data = response_3.json()  # Parse JSON response\n",
        "\n",
        "    # Extract the 'body' part of the JSON response\n",
        "    records = data.get(\"body\", [])\n",
        "\n",
        "    if records:\n",
        "        # Use the keys from the first record to set the CSV headers\n",
        "        headers = records[0].keys()\n",
        "\n",
        "        # Write data to a CSV file\n",
        "        with open(\"data_3.csv\", \"w\", encoding=\"utf-8\", newline='') as file:\n",
        "            writer = csv.DictWriter(file, fieldnames=headers)\n",
        "            writer.writeheader()\n",
        "            writer.writerows(records)\n",
        "\n",
        "        print(\"CSV 파일로 저장되었습니다.\")\n",
        "    else:\n",
        "        print(\"기록이 없습니다.\")\n",
        "else:\n",
        "    # Print an error message if the request failed\n",
        "    print(\"요청에 실패하였습니다. 상태 코드:\", response_3.status_code)\n"
      ],
      "metadata": {
        "colab": {
          "base_uri": "https://localhost:8080/"
        },
        "id": "G1NipGje8sYf",
        "outputId": "0b704ab9-fcf3-46fe-d9a4-323b47d0e2df"
      },
      "execution_count": null,
      "outputs": [
        {
          "output_type": "stream",
          "name": "stdout",
          "text": [
            "CSV 파일로 저장되었습니다.\n"
          ]
        }
      ]
    },
    {
      "cell_type": "code",
      "source": [
        "import pandas as pd\n",
        "\n",
        "# CSV 파일 불러오기\n",
        "file_path = \"/content/data_3.csv\"\n",
        "data = pd.read_csv(file_path)\n",
        "\n",
        "# 필요한 열 추출 및 YR이 2008인 데이터만 필터링\n",
        "extracted_data_3 = data[['YR', 'DONG_CD', 'STATS_VL']]\n",
        "filtered_data_3_2008 = extracted_data_3[extracted_data_3['YR'] == 2008]\n",
        "\n",
        "# 추출된 데이터를 새로운 CSV 파일로 저장\n",
        "output_file_path = '/content/extracted_data_3_2008.csv'\n",
        "filtered_data_3_2008.to_csv(output_file_path, index=False)\n",
        "\n",
        "# 저장된 파일 경로 출력\n",
        "print(output_file_path)\n"
      ],
      "metadata": {
        "colab": {
          "base_uri": "https://localhost:8080/"
        },
        "id": "2ThIBs8I9V2X",
        "outputId": "a127cb1a-693b-43ce-8e80-61bed244beac"
      },
      "execution_count": null,
      "outputs": [
        {
          "output_type": "stream",
          "name": "stdout",
          "text": [
            "/content/extracted_data_3_2008.csv\n"
          ]
        }
      ]
    },
    {
      "cell_type": "code",
      "source": [
        "\n",
        "\n",
        "# CSV 파일 불러오기\n",
        "file_path_1 = \"/content/extracted_data_3_2008.csv\"\n",
        "file_path_2 = \"/content/extracted_data_2.csv\"\n",
        "\n",
        "data_1 = pd.read_csv(file_path_1)\n",
        "data_2 = pd.read_csv(file_path_2)\n",
        "\n",
        "# DONG_CD 값으로 병합\n",
        "merged_data_2 = pd.merge(data_1, data_2, on='DONG_CD')\n",
        "\n",
        "# 병합된 데이터를 새로운 CSV 파일로 저장\n",
        "output_file_path = '/content/merged_data_2.csv'\n",
        "merged_data_2.to_csv(output_file_path, index=False)\n",
        "\n",
        "# 저장된 파일 경로 출력\n",
        "output_file_path\n"
      ],
      "metadata": {
        "colab": {
          "base_uri": "https://localhost:8080/",
          "height": 35
        },
        "id": "_-MLu1q59nAX",
        "outputId": "989c18ff-6864-4c7e-9907-906025fbe696"
      },
      "execution_count": null,
      "outputs": [
        {
          "output_type": "execute_result",
          "data": {
            "text/plain": [
              "'/content/merged_data_2.csv'"
            ],
            "application/vnd.google.colaboratory.intrinsic+json": {
              "type": "string"
            }
          },
          "metadata": {},
          "execution_count": 123
        }
      ]
    },
    {
      "cell_type": "code",
      "source": [
        "import pandas as pd\n",
        "\n",
        "# CSV 파일 불러오기\n",
        "file_path_1 = \"/content/merged_data.csv\"\n",
        "file_path_2 = \"/content/merged_data_2.csv\"\n",
        "\n",
        "data_1 = pd.read_csv(file_path_1)\n",
        "data_2 = pd.read_csv(file_path_2)\n",
        "# Rename the STATS_VL column\n",
        "data_2.rename(columns={'STATS_VL': 'STATS_VL_2'}, inplace=True)\n",
        "\n",
        "# Merge on DONG_CD\n",
        "final_merged_data = pd.merge(data_1, data_2[['DONG_CD', 'STATS_VL_2']], on='DONG_CD', how='left')\n",
        "\n",
        "# Adjust column order\n",
        "columns_order = ['DONG_CD', 'STATS_VL', 'STATS_VL_2'] + [col for col in merged_data.columns if col not in ['DONG_CD', 'STATS_VL', 'STATS_VL_2']]\n",
        "final_merged_data = final_merged_data[columns_order]\n",
        "\n",
        "# 병합된 데이터를 새로운 CSV 파일로 저장\n",
        "output_file_path = '/content/final_merged_data.csv'\n",
        "final_merged_data.to_csv(output_file_path, index=False)\n",
        "\n",
        "# 저장된 파일 경로 출력\n",
        "output_file_path\n"
      ],
      "metadata": {
        "colab": {
          "base_uri": "https://localhost:8080/",
          "height": 35
        },
        "id": "4gD1GsLqAU2A",
        "outputId": "6eec7924-a3b3-4d38-d823-1f7e39a72e44"
      },
      "execution_count": null,
      "outputs": [
        {
          "output_type": "execute_result",
          "data": {
            "text/plain": [
              "'/content/final_merged_data.csv'"
            ],
            "application/vnd.google.colaboratory.intrinsic+json": {
              "type": "string"
            }
          },
          "metadata": {},
          "execution_count": 126
        }
      ]
    },
    {
      "cell_type": "code",
      "source": [
        "file_path = \"/content/final_merged_data.csv\"\n",
        "data = pd.read_csv(file_path)\n",
        "\n",
        "# Filter the data where CTPV_NM is \"경상남도\"\n",
        "filtered_data = data[data['CTPV_NM'] == '경상남도']\n",
        "\n",
        "def add_zero_if_needed(sgg_cd):\n",
        "    sgg_cd = str(int(float(sgg_cd)))  # 정수로 변환 후 문자열로 변환\n",
        "    if len(sgg_cd) == 4:\n",
        "        return sgg_cd + '0.0'\n",
        "    return sgg_cd +'.0'\n",
        "\n",
        "filtered_data['SGG_CD'] = filtered_data['SGG_CD'].apply(add_zero_if_needed)\n",
        "\n",
        "\n",
        "# Save the filtered data to a new CSV file\n",
        "output_file_path = '/content/filtered_data_gyeongsangnamdo.csv'\n",
        "filtered_data.to_csv(output_file_path, index=False)\n",
        "\n",
        "# Output the path of the saved file\n",
        "output_file_path"
      ],
      "metadata": {
        "colab": {
          "base_uri": "https://localhost:8080/",
          "height": 157
        },
        "id": "Fv6AnPPKCgp_",
        "outputId": "46e8a9a4-c3dd-4e1b-8dad-5aa500a6f865"
      },
      "execution_count": null,
      "outputs": [
        {
          "output_type": "stream",
          "name": "stderr",
          "text": [
            "<ipython-input-143-d3b6e46ea12b>:13: SettingWithCopyWarning: \n",
            "A value is trying to be set on a copy of a slice from a DataFrame.\n",
            "Try using .loc[row_indexer,col_indexer] = value instead\n",
            "\n",
            "See the caveats in the documentation: https://pandas.pydata.org/pandas-docs/stable/user_guide/indexing.html#returning-a-view-versus-a-copy\n",
            "  filtered_data['SGG_CD'] = filtered_data['SGG_CD'].apply(add_zero_if_needed)\n"
          ]
        },
        {
          "output_type": "execute_result",
          "data": {
            "text/plain": [
              "'/content/filtered_data_gyeongsangnamdo.csv'"
            ],
            "application/vnd.google.colaboratory.intrinsic+json": {
              "type": "string"
            }
          },
          "metadata": {},
          "execution_count": 143
        }
      ]
    },
    {
      "cell_type": "code",
      "source": [
        "import folium\n",
        "import json\n",
        "import pandas as pd\n",
        "\n",
        "# CSV 파일 로드\n",
        "file_path = '/content/filtered_data_gyeongsangnamdo.csv'\n",
        "data = pd.read_csv(file_path)\n",
        "\n",
        "# GeoJSON 파일 로드\n",
        "geo_path = '/content/skorea_municipalities_geo_simple_2.json'  # 실제 GeoJSON 파일 경로로 변경해야 합니다\n",
        "with open(geo_path, 'r', encoding='utf-8') as f:\n",
        "    geo_data = json.load(f)\n",
        "\n",
        "# STATS_VL 값의 범위에 따라 색상 설정 함수 정의\n",
        "def get_color(feature):\n",
        "    sgg_nm = feature['properties']['name']\n",
        "    if sgg_nm in data['SGG_NM'].unique():\n",
        "        stats_vl = data[data['SGG_NM'] == sgg_nm]['STATS_VL'].sum()\n",
        "        if stats_vl > 300000:\n",
        "            return '#800026'\n",
        "        elif stats_vl > 20000:\n",
        "            return '#BD0026'\n",
        "        elif stats_vl > 16000:\n",
        "            return '#E31A1C'\n",
        "        elif stats_vl > 13000:\n",
        "            return '#FC4E2A'\n",
        "        elif stats_vl > 10000:\n",
        "            return '#FD8D3C'\n",
        "        else:\n",
        "            return '#FEB24C'\n",
        "    else:\n",
        "        return '#FFFFFF'  # 데이터가 없는 경우 흰색\n",
        "\n",
        "# 지도 생성\n",
        "m = folium.Map(location=[35.1796, 128.1113], zoom_start=9)\n",
        "\n",
        "# GeoJSON 데이터를 지도에 추가\n",
        "folium.GeoJson(\n",
        "    geo_data,\n",
        "    style_function=lambda feature: {\n",
        "        'fillColor': get_color(feature),\n",
        "        'color': 'black',\n",
        "        'weight': 2,\n",
        "        'fillOpacity': 0.7,\n",
        "    }\n",
        ").add_to(m)\n",
        "\n",
        "# 지도 저장\n",
        "map_path = '/content/gyeongsangnamdo_stats_vl_regions.html'\n",
        "m.save(map_path)\n",
        "\n",
        "map_path"
      ],
      "metadata": {
        "colab": {
          "base_uri": "https://localhost:8080/",
          "height": 35
        },
        "id": "D-tVq58jPgBG",
        "outputId": "5fd992d2-5d2c-441f-c895-ba3f28195a6c"
      },
      "execution_count": null,
      "outputs": [
        {
          "output_type": "execute_result",
          "data": {
            "text/plain": [
              "'/content/gyeongsangnamdo_stats_vl_regions.html'"
            ],
            "application/vnd.google.colaboratory.intrinsic+json": {
              "type": "string"
            }
          },
          "metadata": {},
          "execution_count": 145
        }
      ]
    },
    {
      "cell_type": "code",
      "source": [
        "import folium\n",
        "import json\n",
        "import pandas as pd\n",
        "\n",
        "# CSV 파일 로드\n",
        "file_path = '/content/filtered_data_gyeongsangnamdo.csv'\n",
        "data = pd.read_csv(file_path)\n",
        "\n",
        "# GeoJSON 파일 로드\n",
        "geo_path = '/content/skorea_municipalities_geo_simple_2.json'  # 실제 GeoJSON 파일 경로로 변경해야 합니다\n",
        "with open(geo_path, 'r', encoding='utf-8') as f:\n",
        "    geo_data = json.load(f)\n",
        "\n",
        "# STATS_VL_2 값의 범위에 따라 색상 설정 함수 정의\n",
        "def get_green_color(feature):\n",
        "    sgg_nm = feature['properties']['name']\n",
        "    if sgg_nm in data['SGG_NM'].unique():\n",
        "        stats_vl = data[data['SGG_NM'] == sgg_nm]['STATS_VL_2'].sum()\n",
        "        if stats_vl > 30:\n",
        "            return '#00441b'\n",
        "        elif stats_vl > 20:\n",
        "            return '#006d2c'\n",
        "        elif stats_vl > 10:\n",
        "            return '#238b45'\n",
        "        elif stats_vl > 5:\n",
        "            return '#41ab5d'\n",
        "        elif stats_vl > 2:\n",
        "            return '#74c476'\n",
        "        else:\n",
        "            return '#a1d99b'\n",
        "    else:\n",
        "        return '#FFFFFF'  # 데이터가 없는 경우 흰색\n",
        "\n",
        "# 지도 생성\n",
        "m = folium.Map(location=[35.1796, 128.1113], zoom_start=9)\n",
        "\n",
        "# GeoJSON 데이터를 지도에 추가\n",
        "folium.GeoJson(\n",
        "    geo_data,\n",
        "    style_function=lambda feature: {\n",
        "        'fillColor': get_green_color(feature),\n",
        "        'color': 'black',\n",
        "        'weight': 2,\n",
        "        'fillOpacity': 0.7,\n",
        "    }\n",
        ").add_to(m)\n",
        "\n",
        "# 지도 저장\n",
        "map_path = '/content/gyeongsangnamdo_stats_vl_green_regions.html'\n",
        "m.save(map_path)\n"
      ],
      "metadata": {
        "id": "46BdwUw-V4h_"
      },
      "execution_count": null,
      "outputs": []
    },
    {
      "cell_type": "code",
      "source": [
        "file_path = '/content/filtered_data_gyeongsangnamdo.csv'\n",
        "data = pd.read_csv(file_path)\n",
        "\n",
        "data['STATS_VL_2'] = data['STATS_VL_2'].replace(0, 1)\n",
        "\n",
        "# STATS_VL을 STATS_VL_2로 나눈 값을 계산하여 새로운 컬럼 추가\n",
        "data['STATS_VL_DIVIDED'] = data['STATS_VL'] / data['STATS_VL_2']\n",
        "\n",
        "# 필터링된 데이터와 새로운 컬럼을 포함하여 저장\n",
        "output_file_path = '/content/filtered_data_gyeongsangnamdo_with_divided.csv'\n",
        "data.to_csv(output_file_path, index=False)\n",
        "\n",
        "# 저장된 파일 경로 출력\n",
        "output_file_path"
      ],
      "metadata": {
        "colab": {
          "base_uri": "https://localhost:8080/",
          "height": 35
        },
        "id": "SnmIsowqodx-",
        "outputId": "27814d85-9a1c-47ea-c0b2-d2ca608b2b30"
      },
      "execution_count": null,
      "outputs": [
        {
          "output_type": "execute_result",
          "data": {
            "text/plain": [
              "'/content/filtered_data_gyeongsangnamdo_with_divided.csv'"
            ],
            "application/vnd.google.colaboratory.intrinsic+json": {
              "type": "string"
            }
          },
          "metadata": {},
          "execution_count": 152
        }
      ]
    },
    {
      "cell_type": "code",
      "source": [
        "import folium\n",
        "import json\n",
        "import pandas as pd\n",
        "\n",
        "# CSV 파일 로드\n",
        "file_path = '/content/filtered_data_gyeongsangnamdo_with_divided.csv'\n",
        "data = pd.read_csv(file_path)\n",
        "\n",
        "# GeoJSON 파일 로드\n",
        "geo_path = '/content/skorea_municipalities_geo_simple_2.json'  # 실제 GeoJSON 파일 경로로 변경해야 합니다\n",
        "with open(geo_path, 'r', encoding='utf-8') as f:\n",
        "    geo_data = json.load(f)\n",
        "\n",
        "# STATS_VL_2 값의 범위에 따라 색상 설정 함수 정의\n",
        "def get_green_color(feature):\n",
        "    sgg_nm = feature['properties']['name']\n",
        "    if sgg_nm in data['SGG_NM'].unique():\n",
        "        stats_vl = data[data['SGG_NM'] == sgg_nm]['STATS_VL_DIVIDED'].sum()\n",
        "        if stats_vl > 10000:\n",
        "            return '#00441b'\n",
        "        else:\n",
        "            return '#a1d99b'\n",
        "    else:\n",
        "        return '#FFFFFF'  # 데이터가 없는 경우 흰색\n",
        "\n",
        "# 지도 생성\n",
        "m = folium.Map(location=[35.1796, 128.1113], zoom_start=9)\n",
        "\n",
        "# GeoJSON 데이터를 지도에 추가\n",
        "folium.GeoJson(\n",
        "    geo_data,\n",
        "    style_function=lambda feature: {\n",
        "        'fillColor': get_green_color(feature),\n",
        "        'color': 'black',\n",
        "        'weight': 2,\n",
        "        'fillOpacity': 0.7,\n",
        "    }\n",
        ").add_to(m)\n",
        "\n",
        "# 지도 저장\n",
        "map_path = '/content/gyeongsangnamdo_stats_vl_divid.html'\n",
        "m.save(map_path)\n"
      ],
      "metadata": {
        "id": "lrFBVl98sEpu"
      },
      "execution_count": null,
      "outputs": []
    }
  ],
  "metadata": {
    "colab": {
      "provenance": [],
      "mount_file_id": "1t3CIED2HCs_lqVbA9NTdnwLu-JaO1EE8",
      "authorship_tag": "ABX9TyP5GOpX2c/6StpsQZRIQBy7",
      "include_colab_link": true
    },
    "kernelspec": {
      "display_name": "Python 3",
      "name": "python3"
    },
    "language_info": {
      "name": "python"
    }
  },
  "nbformat": 4,
  "nbformat_minor": 0
}